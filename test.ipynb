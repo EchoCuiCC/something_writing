{
 "cells": [
  {
   "cell_type": "code",
   "execution_count": 1,
   "metadata": {},
   "outputs": [],
   "source": [
    "import numpy as np\n",
    "import mcubes\n",
    "import nibabel\n",
    "from skimage.transform import resize\n",
    "import copy\n",
    "import os\n",
    "from os.path import join\n",
    "import SimpleITK as sitk"
   ]
  },
  {
   "cell_type": "code",
   "execution_count": 18,
   "metadata": {},
   "outputs": [],
   "source": [
    "SAVE_OBJ_FOLD = r'G:\\front_web\\cudes\\B-obj'\n",
    "SAVE_NII_FOLD = r'G:\\front_web\\cudes\\A-nii'\n",
    "DATASET_FOLD = r'D:\\juputer\\CECT\\ground_truth\\clear'"
   ]
  },
  {
   "cell_type": "code",
   "execution_count": 2,
   "metadata": {},
   "outputs": [],
   "source": [
    "def dcm2nii_sitk(path_read, path_save,file_name):\n",
    "    reader = sitk.ImageSeriesReader()\n",
    "    seriesIDs = reader.GetGDCMSeriesIDs(path_read)\n",
    "\n",
    "    N = len(seriesIDs)\n",
    "    lens = np.zeros([N])\n",
    "    for i in range(N):\n",
    "        dicom_names = reader.GetGDCMSeriesFileNames(path_read, seriesIDs[i])\n",
    "        lens[i] = len(dicom_names)\n",
    "    N_MAX = np.argmax(lens)\n",
    "    dicom_names = reader.GetGDCMSeriesFileNames(path_read, seriesIDs[N_MAX])\n",
    "\n",
    "    reader.SetFileNames(dicom_names)\n",
    "    image = reader.Execute()\n",
    "    if not os.path.exists(path_save):\n",
    "        os.mkdir(path_save)\n",
    "    sitk.WriteImage(image, join(path_save,file_name+'.nii.gz'))\n",
    "\n",
    "def comebine_2_nii(source_path1,source_path2,file_name):\n",
    "    # 读取nii文件\n",
    "    nii_img = nibabel.load(source_path1)\n",
    "    nii_data = nii_img.get_fdata()\n",
    "    # new_data = nii_data.copy()\n",
    "    nii_data2 = nibabel.load(source_path2).get_fdata()\n",
    "\n",
    "    # 省略一些处理data的骚操作,比如：\n",
    "    new_data = nii_data+nii_data2\n",
    "    new_data = new_data.astype(np.uint8)\n",
    "\n",
    "    # 把仿射矩阵和头文件都存下来\n",
    "    affine = nii_img.affine.copy()\n",
    "    hdr = nii_img.header.copy()\n",
    "\n",
    "    # 形成新的nii文件\n",
    "    new_nii = nibabel.Nifti1Image(new_data, affine, hdr)\n",
    "\n",
    "    # 保存nii文件，后面的参数是保存的文件名\n",
    "    nibabel.save(new_nii, file_name+'.nii.gz')\n"
   ]
  },
  {
   "cell_type": "code",
   "execution_count": 44,
   "metadata": {},
   "outputs": [],
   "source": [
    "dcm2nii_sitk(r'D:\\juputer\\CECT\\ground_truth\\clear\\zongjinzhang_pre_CT\\pelvis_artery',r'G:\\front_web\\cudes\\nii','zongjinzhang_pre_CT')"
   ]
  },
  {
   "cell_type": "code",
   "execution_count": 8,
   "metadata": {},
   "outputs": [],
   "source": [
    "patient = 'zhangyuejian_pre_CT'\n",
    "dcm2nii_sitk(join(DATASET_FOLD,patient,'pelvis_artery'),SAVE_NII_FOLD,patient)"
   ]
  },
  {
   "cell_type": "code",
   "execution_count": 15,
   "metadata": {},
   "outputs": [],
   "source": [
    "def resize_segmentation(segmentation, new_shape, order=3, cval=0):\n",
    "    '''\n",
    "    Resizes a segmentation map. Supports all orders (see skimage documentation). Will transform segmentation map to one\n",
    "    hot encoding which is resized and transformed back to a segmentation map.\n",
    "    This prevents interpolation artifacts ([0, 0, 2] -> [0, 1, 2])\n",
    "    :param segmentation:\n",
    "    :param new_shape:\n",
    "    :param order:\n",
    "    :return:\n",
    "    '''\n",
    "    tpe = segmentation.dtype\n",
    "    unique_labels = np.unique(segmentation)\n",
    "    assert len(segmentation.shape) == len(new_shape), \"new shape must have same dimensionality as segmentation\"\n",
    "    reshaped = np.zeros(new_shape, dtype=segmentation.dtype)\n",
    "    for i, c in enumerate(unique_labels):\n",
    "        mask = segmentation == c\n",
    "        reshaped_multihot = resize(mask.astype(float), new_shape, order, mode=\"edge\", clip=True, anti_aliasing=False)\n",
    "        reshaped[reshaped_multihot >= 0.5] = c\n",
    "        print(i)\n",
    "    return reshaped\n",
    "\n",
    "def read_file_and_resize(file_path):\n",
    "    if not file_path.endswith('.nii.gz'):\n",
    "        file_path = file_path+'.nii.gz'\n",
    "    file = nibabel.load(file_path)\n",
    "    img = file.get_fdata()\n",
    "    spacing = np.array(file.header.get_zooms())\n",
    "    position_array = np.where(img)\n",
    "    start = np.array(position_array).min(1)\n",
    "    end = np.array(position_array).max(1)\n",
    "    print('file have been read.')\n",
    "    cube = img[start[0]:end[0]+2,start[1]:end[1]+2,start[2]:end[2]+2]\n",
    "    shape = np.array(cube.shape)\n",
    "    new_shape = np.around(spacing/spacing.min()*shape).astype(int)\n",
    "    print('resize the spacing into the same....there need some time')\n",
    "    new_array = resize_segmentation(cube,new_shape)\n",
    "    return new_array\n",
    "\n",
    "def get_multi_class_reconstruction(file_path,save_path,zxy_position=[2,1,0],parts=None):\n",
    "    new_array = read_file_and_resize(file_path)\n",
    "    z,x,y = zxy_position\n",
    "    array = np.transpose(new_array,[y,z,x])\n",
    "\n",
    "    if not os.path.exists(save_path):\n",
    "        os.mkdir(save_path)\n",
    "\n",
    "    if parts==None:\n",
    "        parts = ['back','pelvis','aorta','right_common_iliac_artery','left_common_iliac_artery','right_external_iliac_artery','right_internal_iliac_artery','left_external_iliac_artery','left_internal_iliac_artery']\n",
    "    for index in range(1,len(parts)):\n",
    "        test = copy.deepcopy(array)\n",
    "        test[test!=index]=0\n",
    "        test[test==index]=1\n",
    "        not_zero = np.where(test)\n",
    "        start = np.array(not_zero).min(1)\n",
    "        end = np.array(not_zero).max(1)\n",
    "        part = test[start[0]:end[0]+2,start[1]:end[1]+2,start[2]:end[2]+2]\n",
    "        part = mcubes.smooth(part,'constrained')\n",
    "        test[start[0]:end[0]+2,start[1]:end[1]+2,start[2]:end[2]+2] = part\n",
    "        vertices, triangles = mcubes.marching_cubes(test, 0)\n",
    "        mcubes.export_obj(vertices, triangles, os.path.join(save_path,parts[index]+'.obj'))\n",
    "        print(parts[index]+' have done')\n"
   ]
  },
  {
   "cell_type": "code",
   "execution_count": 17,
   "metadata": {},
   "outputs": [
    {
     "name": "stdout",
     "output_type": "stream",
     "text": [
      "file have been read.\n",
      "resize the spacing into the same....there need some time\n",
      "0\n",
      "1\n",
      "2\n",
      "3\n",
      "4\n",
      "5\n",
      "6\n",
      "7\n",
      "8\n",
      "pelvis have done\n",
      "aorta have done\n",
      "right_common_iliac_artery have done\n",
      "left_common_iliac_artery have done\n",
      "right_external_iliac_artery have done\n",
      "right_internal_iliac_artery have done\n",
      "left_external_iliac_artery have done\n",
      "left_internal_iliac_artery have done\n"
     ]
    }
   ],
   "source": [
    "get_multi_class_reconstruction(join(SAVE_NII_FOLD,patient),join(SAVE_OBJ_FOLD,patient))"
   ]
  },
  {
   "cell_type": "code",
   "execution_count": null,
   "metadata": {},
   "outputs": [],
   "source": [
    "# use node to change the obj to gltf\n",
    "# node change2gltf.js"
   ]
  },
  {
   "cell_type": "code",
   "execution_count": 1,
   "metadata": {},
   "outputs": [],
   "source": [
    "SAVE_GLTF_FOLD=r'G:\\front_web\\cudes\\C-module'\n",
    "for i in os.listdir('B-obj'):\n",
    "    try:\n",
    "        os.makedirs(join(SAVE_GLTF_FOLD,i.split('.')[0]))\n",
    "    except:\n",
    "        continue"
   ]
  },
  {
   "cell_type": "code",
   "execution_count": 2,
   "metadata": {},
   "outputs": [
    {
     "data": {
      "text/plain": [
       "['huangzeming_pre_CT',\n",
       " 'lvlong_pre_CT',\n",
       " 'maokuirong_pre_CT',\n",
       " 'wuxingcai_pre_CT',\n",
       " 'xuchaozhi_pre_CT',\n",
       " 'xuwentou_pre_CT',\n",
       " 'yaokai_pre_CT']"
      ]
     },
     "execution_count": 2,
     "metadata": {},
     "output_type": "execute_result"
    }
   ],
   "source": [
    "os.listdir(SAVE_GLTF_FOLD)"
   ]
  },
  {
   "cell_type": "code",
   "execution_count": null,
   "metadata": {},
   "outputs": [],
   "source": []
  },
  {
   "cell_type": "code",
   "execution_count": null,
   "metadata": {},
   "outputs": [],
   "source": []
  }
 ],
 "metadata": {
  "interpreter": {
   "hash": "08838e45e33889b81824226b50789518e389bb53ac98e2bc94a90e96f7ca0177"
  },
  "kernelspec": {
   "display_name": "Python 3.6.13 ('cui')",
   "language": "python",
   "name": "python3"
  },
  "language_info": {
   "codemirror_mode": {
    "name": "ipython",
    "version": 3
   },
   "file_extension": ".py",
   "mimetype": "text/x-python",
   "name": "python",
   "nbconvert_exporter": "python",
   "pygments_lexer": "ipython3",
   "version": "3.6.13"
  },
  "orig_nbformat": 4
 },
 "nbformat": 4,
 "nbformat_minor": 2
}
